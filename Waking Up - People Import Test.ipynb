{
 "cells": [
  {
   "cell_type": "code",
   "execution_count": 1,
   "metadata": {},
   "outputs": [],
   "source": [
    "## import dependencies\n",
    "\n",
    "from mixpanel_api import Mixpanel\n",
    "import pandas as pd\n",
    "from pandas.io.json import json_normalize\n",
    "import requests\n",
    "import json\n",
    "pd.set_option('display.max_columns', None)\n",
    "pd.set_option('display.max_rows', None)"
   ]
  },
  {
   "cell_type": "code",
   "execution_count": 2,
   "metadata": {},
   "outputs": [],
   "source": [
    "## import data from MixPanel\n",
    "\n",
    "if __name__ == '__main__':\n",
    "  credentials = {\n",
    "    'API_secret': '..',\n",
    "    'token': '',\n",
    "  }\n",
    "\n",
    "  m = Mixpanel(credentials['API_secret'])\n",
    "# selector = ''  \n",
    "  selector = '((\"US\" in properties[\"$country_code\"]) and (defined (properties[\"$country_code\"])))'\n",
    "  parameters = {'selector': selector}\n",
    "\n",
    "m.export_people('people_export.txt',parameters,timezone_offset=-8)"
   ]
  },
  {
   "cell_type": "code",
   "execution_count": 3,
   "metadata": {},
   "outputs": [],
   "source": [
    "## import txt file as json\n",
    "\n",
    "with open('people_export.txt', 'r') as handle:\n",
    "    parsed = json.load(handle)\n",
    "\n",
    "## printing the json file, if needed    \n",
    "#print(json.dumps(parsed, indent=4, sort_keys=True))"
   ]
  },
  {
   "cell_type": "code",
   "execution_count": 4,
   "metadata": {},
   "outputs": [],
   "source": [
    "## convert json to dataframe\n",
    "\n",
    "people_df = pd.DataFrame.from_dict(json_normalize(parsed), orient='columns')\n",
    "#people_df.head(10)"
   ]
  },
  {
   "cell_type": "code",
   "execution_count": 5,
   "metadata": {},
   "outputs": [
    {
     "data": {
      "text/plain": [
       "294710"
      ]
     },
     "execution_count": 5,
     "metadata": {},
     "output_type": "execute_result"
    }
   ],
   "source": [
    "len(people_df)"
   ]
  },
  {
   "cell_type": "code",
   "execution_count": 6,
   "metadata": {},
   "outputs": [
    {
     "name": "stderr",
     "output_type": "stream",
     "text": [
      "WARNING: Invalid format - must be 'json' or 'csv': format = {'selector': '((\"Brooklyn\" in properties[\"$city\"]) and (defined (properties[\"$city\"])))'}\n",
      "Dumping json to event_export.txt\n"
     ]
    }
   ],
   "source": [
    "selector = '((\"Brooklyn\" in properties[\"$city\"]) and (defined (properties[\"$city\"])))'\n",
    "parameters = {'selector': selector}\n",
    "m.export_events('event_export.txt',{'from_date':'2019-06-01','to_date':'2019-06-02'},parameters)"
   ]
  },
  {
   "cell_type": "code",
   "execution_count": 7,
   "metadata": {},
   "outputs": [],
   "source": [
    "with open('event_export.txt', 'r') as handle:\n",
    "    events = json.load(handle)\n",
    "## printing the json file, if needed    \n",
    "#print(json.dumps(parsed, indent=4, sort_keys=True))"
   ]
  },
  {
   "cell_type": "code",
   "execution_count": 8,
   "metadata": {},
   "outputs": [],
   "source": [
    "events_df = pd.DataFrame.from_dict(json_normalize(events), orient='columns')\n",
    "#events_df.head(10)"
   ]
  },
  {
   "cell_type": "code",
   "execution_count": 9,
   "metadata": {},
   "outputs": [
    {
     "data": {
      "text/plain": [
       "629396"
      ]
     },
     "execution_count": 9,
     "metadata": {},
     "output_type": "execute_result"
    }
   ],
   "source": [
    "len(events_df)"
   ]
  },
  {
   "cell_type": "code",
   "execution_count": 10,
   "metadata": {
    "scrolled": false
   },
   "outputs": [],
   "source": [
    "events_describe = events_df.groupby('event').count()\n",
    "events_describe = events_describe.loc[:,'properties.time'].reset_index()"
   ]
  },
  {
   "cell_type": "code",
   "execution_count": 11,
   "metadata": {},
   "outputs": [],
   "source": [
    "#events_describe"
   ]
  },
  {
   "cell_type": "code",
   "execution_count": null,
   "metadata": {},
   "outputs": [],
   "source": []
  }
 ],
 "metadata": {
  "kernelspec": {
   "display_name": "Python 3",
   "language": "python",
   "name": "python3"
  },
  "language_info": {
   "codemirror_mode": {
    "name": "ipython",
    "version": 3
   },
   "file_extension": ".py",
   "mimetype": "text/x-python",
   "name": "python",
   "nbconvert_exporter": "python",
   "pygments_lexer": "ipython3",
   "version": "3.7.1"
  }
 },
 "nbformat": 4,
 "nbformat_minor": 2
}
